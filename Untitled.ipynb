{
 "cells": [
  {
   "cell_type": "code",
   "execution_count": 1,
   "id": "348b6157",
   "metadata": {},
   "outputs": [
    {
     "name": "stdout",
     "output_type": "stream",
     "text": [
      "0.6129503231017756\n"
     ]
    }
   ],
   "source": [
    "suma = 0\n",
    "pocet = 0\n",
    "file = 'D:/GLUTnewpymissense/GLUT13.pdb'\n",
    "for line in open(f'{file}'):\n",
    "        list = line.split()\n",
    "        id = list[0]\n",
    "        if id == 'ATOM':\n",
    "            #print(list)\n",
    "            #print(list[10])\n",
    "            suma += float(list[10])\n",
    "            pocet += 1\n",
    "\n",
    "print(suma/pocet)"
   ]
  },
  {
   "cell_type": "code",
   "execution_count": null,
   "id": "5d7e98e7",
   "metadata": {},
   "outputs": [],
   "source": []
  },
  {
   "cell_type": "code",
   "execution_count": null,
   "id": "cd76addf",
   "metadata": {},
   "outputs": [],
   "source": []
  }
 ],
 "metadata": {
  "kernelspec": {
   "display_name": "Python 3 (ipykernel)",
   "language": "python",
   "name": "python3"
  },
  "language_info": {
   "codemirror_mode": {
    "name": "ipython",
    "version": 3
   },
   "file_extension": ".py",
   "mimetype": "text/x-python",
   "name": "python",
   "nbconvert_exporter": "python",
   "pygments_lexer": "ipython3",
   "version": "3.11.5"
  }
 },
 "nbformat": 4,
 "nbformat_minor": 5
}
