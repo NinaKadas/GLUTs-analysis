{
 "cells": [
  {
   "cell_type": "code",
   "execution_count": 5,
   "id": "721391a5",
   "metadata": {},
   "outputs": [
    {
     "name": "stdout",
     "output_type": "stream",
     "text": [
      "    Label PolyPhen-2 EV_Mutations  PolyPhen-2_9 PolyPhen-2_11\n",
      "0       M        NaN          NaN      0.871000           non\n",
      "1       S        NaN          NaN      0.304105           non\n",
      "2       R        NaN          NaN      0.324526           non\n",
      "3       K        NaN          NaN      0.992526           non\n",
      "4       A        NaN          NaN      0.487632           non\n",
      "..    ...        ...          ...           ...           ...\n",
      "643     A        NaN          NaN      0.883632           non\n",
      "644     S        NaN          NaN      0.929000           non\n",
      "645     D        NaN          NaN      0.921684           non\n",
      "646     V        NaN          NaN      0.854737           non\n",
      "647     E        NaN          NaN      0.732833           non\n",
      "\n",
      "[648 rows x 5 columns]\n"
     ]
    }
   ],
   "source": [
    "import pandas as pd\n",
    "import numpy as np\n",
    "import os\n",
    "\n",
    "\n",
    "file_path = 'D:/Rhapsody/Rhapsody/GLUT13.csv'\n",
    "\n",
    "df = pd.read_csv('D:/Rhapsody/Rhapsody/GLUT13.csv', delimiter=';')\n",
    "\n",
    "selected_columns = df.iloc[1:, [2, 8, 10]] \n",
    "\n",
    "selected_columns.iloc[:, 1] = pd.to_numeric(selected_columns.iloc[:, 1], errors='coerce')\n",
    "selected_columns.iloc[:, 2] = pd.to_numeric(selected_columns.iloc[:, 2], errors='coerce')\n",
    "\n",
    "results = pd.DataFrame(columns=['Label', 'PolyPhen-2', 'EV_Mutations'])\n",
    "\n",
    "for i in range(0, len(selected_columns), 19):\n",
    "    group = selected_columns.iloc[i:i+19]\n",
    "\n",
    "    \n",
    "    average_9 = group.iloc[:, 1].mean(skipna=True)\n",
    "    average_11 = group.iloc[:, 2].mean(skipna=True)\n",
    "\n",
    "    if np.isnan(average_9):\n",
    "        average_9 = 'non'\n",
    "    if np.isnan(average_11):\n",
    "        average_11 = 'non'\n",
    "\n",
    "    results = pd.concat([results, pd.DataFrame({'Label': [group.iloc[0, 0]], 'PolyPhen-2_9': [average_9], 'PolyPhen-2_11': [average_11]})], ignore_index=True)\n",
    "\n",
    "file_name = os.path.splitext(os.path.basename(file_path))[0]\n",
    "\n",
    "output_file_name = file_name + '_ave.csv'\n",
    "\n",
    "output_file_path = os.path.join(os.path.dirname(file_path), output_file_name)\n",
    "\n",
    "results.to_csv(output_file_path, index=False)\n",
    "\n",
    "print(results)\n"
   ]
  },
  {
   "cell_type": "code",
   "execution_count": null,
   "id": "0e3df209",
   "metadata": {},
   "outputs": [],
   "source": []
  }
 ],
 "metadata": {
  "kernelspec": {
   "display_name": "Python 3 (ipykernel)",
   "language": "python",
   "name": "python3"
  },
  "language_info": {
   "codemirror_mode": {
    "name": "ipython",
    "version": 3
   },
   "file_extension": ".py",
   "mimetype": "text/x-python",
   "name": "python",
   "nbconvert_exporter": "python",
   "pygments_lexer": "ipython3",
   "version": "3.11.5"
  }
 },
 "nbformat": 4,
 "nbformat_minor": 5
}
