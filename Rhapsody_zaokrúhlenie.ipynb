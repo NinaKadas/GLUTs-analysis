{
 "cells": [
  {
   "cell_type": "code",
   "execution_count": 2,
   "id": "921769ad",
   "metadata": {},
   "outputs": [
    {
     "name": "stdout",
     "output_type": "stream",
     "text": [
      "    Label  PolyPhen-2  EV_Mutations  PolyPhen-2_9 PolyPhen-2_11\n",
      "0       M         NaN           NaN      0.871000           non\n",
      "1       S         NaN           NaN      0.304105           non\n",
      "2       R         NaN           NaN      0.324526           non\n",
      "3       K         NaN           NaN      0.992526           non\n",
      "4       A         NaN           NaN      0.487632           non\n",
      "..    ...         ...           ...           ...           ...\n",
      "643     A         NaN           NaN      0.883632           non\n",
      "644     S         NaN           NaN      0.929000           non\n",
      "645     D         NaN           NaN      0.921684           non\n",
      "646     V         NaN           NaN      0.854737           non\n",
      "647     E         NaN           NaN      0.732833           non\n",
      "\n",
      "[648 rows x 5 columns]\n"
     ]
    }
   ],
   "source": [
    "import pandas as pd\n",
    "import numpy as np\n",
    "import os\n",
    "\n",
    "# Define the file path\n",
    "file_path = 'D:/Rhapsody/Rhapsody/GLUT13_ave.csv'\n",
    "\n",
    "# Load the .csv file into a DataFrame\n",
    "df = pd.read_csv('D:/Rhapsody/Rhapsody/GLUT13_ave.csv', delimiter=',')\n",
    "\n",
    "# Round the values in columns 3 and 5 to two decimal places\n",
    "df.iloc[:, [2]] = df.iloc[:, [2]].apply(lambda x: round(x, 2) if x.dtype.kind in 'biufc' else x)\n",
    "\n",
    "# Sort the DataFrame by columns 3 and 5 in descending order\n",
    "#df = df.sort_values(by=[df.columns[2]], ascending=[False], key=lambda col: pd.to_numeric(col, errors='coerce'))\n",
    "#df_sorted_by_col3 = df.sort_values(by=df.columns[2], ascending=False)\n",
    "\n",
    "# Print the sorted DataFrame\n",
    "print(df)\n",
    "\n",
    "# Získání názvu původního souboru bez cesty a koncovky\n",
    "file_name = os.path.splitext(os.path.basename(file_path))[0]\n",
    "\n",
    "# Název pro výstupní soubor\n",
    "output_file_name = file_name + '_poly.csv'\n",
    "\n",
    "# Cesta k výstupnímu souboru\n",
    "output_file_path = os.path.join(os.path.dirname(file_path), output_file_name)\n",
    "\n",
    "# Uložení výsledků do CSV souboru\n",
    "df.to_csv(output_file_path, index=False)"
   ]
  },
  {
   "cell_type": "code",
   "execution_count": null,
   "id": "eb9d0517",
   "metadata": {},
   "outputs": [],
   "source": []
  }
 ],
 "metadata": {
  "kernelspec": {
   "display_name": "Python 3 (ipykernel)",
   "language": "python",
   "name": "python3"
  },
  "language_info": {
   "codemirror_mode": {
    "name": "ipython",
    "version": 3
   },
   "file_extension": ".py",
   "mimetype": "text/x-python",
   "name": "python",
   "nbconvert_exporter": "python",
   "pygments_lexer": "ipython3",
   "version": "3.11.5"
  }
 },
 "nbformat": 4,
 "nbformat_minor": 5
}
